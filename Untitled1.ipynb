{
 "cells": [
  {
   "cell_type": "code",
   "execution_count": 1,
   "metadata": {},
   "outputs": [],
   "source": [
    "import tensorflow as tf"
   ]
  },
  {
   "cell_type": "code",
   "execution_count": 4,
   "metadata": {},
   "outputs": [
    {
     "data": {
      "text/plain": [
       "<tf.Tensor: id=9, shape=(1000, 1000), dtype=float32, numpy=\n",
       "array([[0.22149432, 0.80524766, 0.898088  , ..., 0.31117725, 0.6039729 ,\n",
       "        0.14984012],\n",
       "       [0.7214844 , 0.22606122, 0.382383  , ..., 0.8258563 , 0.18645704,\n",
       "        0.401078  ],\n",
       "       [0.9305675 , 0.10393929, 0.19688153, ..., 0.6910858 , 0.46284366,\n",
       "        0.7550057 ],\n",
       "       ...,\n",
       "       [0.04011536, 0.5107238 , 0.01866043, ..., 0.58376133, 0.5911219 ,\n",
       "        0.41826117],\n",
       "       [0.8768368 , 0.00450909, 0.78969467, ..., 0.89347434, 0.18969321,\n",
       "        0.40585124],\n",
       "       [0.42684984, 0.9257755 , 0.5887028 , ..., 0.8833635 , 0.36163533,\n",
       "        0.60705364]], dtype=float32)>"
      ]
     },
     "execution_count": 4,
     "metadata": {},
     "output_type": "execute_result"
    }
   ],
   "source": [
    "tf.random.uniform([1000,1000])"
   ]
  },
  {
   "cell_type": "code",
   "execution_count": 5,
   "metadata": {},
   "outputs": [],
   "source": [
    "import time\n",
    "if tf.config.experimental.list_physical_devices(\"GPU\"):\n",
    "    print(\"GPU\")\n",
    "    t1 = time.time()\n",
    "    with tf.device(\"GPU:0\"):\n",
    "        x = tf.random.uniform([1000,1000])\n",
    "        assert x.device.endswith(\"GPU:0\")\n",
    "        result= time.time()-t1\n",
    "        print(result)     "
   ]
  },
  {
   "cell_type": "code",
   "execution_count": 1,
   "metadata": {},
   "outputs": [
    {
     "data": {
      "text/plain": [
       "<tf.Tensor: id=2, shape=(), dtype=int32, numpy=10110>"
      ]
     },
     "execution_count": 1,
     "metadata": {},
     "output_type": "execute_result"
    }
   ],
   "source": [
    "import  tensorflow as tf\n",
    "x= 10100\n",
    "y = 10010\n",
    "tf.bitwise.bitwise_or(x,y)"
   ]
  },
  {
   "cell_type": "code",
   "execution_count": 6,
   "metadata": {},
   "outputs": [
    {
     "data": {
      "text/plain": [
       "<tf.Tensor: id=12, shape=(), dtype=int32, numpy=127>"
      ]
     },
     "execution_count": 6,
     "metadata": {},
     "output_type": "execute_result"
    }
   ],
   "source": [
    "import  tensorflow as tf\n",
    "x= 123\n",
    "y = 100\n",
    "tf.bitwise.bitwise_or(x,y)"
   ]
  },
  {
   "cell_type": "code",
   "execution_count": 4,
   "metadata": {},
   "outputs": [
    {
     "data": {
      "text/plain": [
       "['/job:localhost/replica:0/task:0/device:CPU:0']"
      ]
     },
     "execution_count": 4,
     "metadata": {},
     "output_type": "execute_result"
    }
   ],
   "source": [
    "tf.config.experimental_list_devices()"
   ]
  },
  {
   "cell_type": "code",
   "execution_count": 5,
   "metadata": {},
   "outputs": [
    {
     "data": {
      "text/plain": [
       "True"
      ]
     },
     "execution_count": 5,
     "metadata": {},
     "output_type": "execute_result"
    }
   ],
   "source": [
    "tf.config.get_soft_device_placement()"
   ]
  },
  {
   "cell_type": "code",
   "execution_count": null,
   "metadata": {},
   "outputs": [],
   "source": []
  }
 ],
 "metadata": {
  "kernelspec": {
   "display_name": "Python 3",
   "language": "python",
   "name": "python3"
  },
  "language_info": {
   "codemirror_mode": {
    "name": "ipython",
    "version": 3
   },
   "file_extension": ".py",
   "mimetype": "text/x-python",
   "name": "python",
   "nbconvert_exporter": "python",
   "pygments_lexer": "ipython3",
   "version": "3.6.8"
  }
 },
 "nbformat": 4,
 "nbformat_minor": 2
}
